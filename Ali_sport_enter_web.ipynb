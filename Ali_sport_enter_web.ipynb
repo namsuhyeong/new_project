{
 "cells": [
  {
   "cell_type": "code",
   "execution_count": 66,
   "metadata": {},
   "outputs": [
    {
     "name": "stdout",
     "output_type": "stream",
     "text": [
      "Defaulting to user installation because normal site-packages is not writeable\n",
      "Requirement already satisfied: selenium in c:\\users\\user\\appdata\\roaming\\python\\python311\\site-packages (4.21.0)\n",
      "Requirement already satisfied: urllib3<3,>=1.26 in c:\\programdata\\anaconda3\\lib\\site-packages (from urllib3[socks]<3,>=1.26->selenium) (2.0.7)\n",
      "Requirement already satisfied: trio~=0.17 in c:\\users\\user\\appdata\\roaming\\python\\python311\\site-packages (from selenium) (0.25.1)\n",
      "Requirement already satisfied: trio-websocket~=0.9 in c:\\users\\user\\appdata\\roaming\\python\\python311\\site-packages (from selenium) (0.11.1)\n",
      "Requirement already satisfied: certifi>=2021.10.8 in c:\\programdata\\anaconda3\\lib\\site-packages (from selenium) (2024.2.2)\n",
      "Requirement already satisfied: typing_extensions>=4.9.0 in c:\\programdata\\anaconda3\\lib\\site-packages (from selenium) (4.9.0)\n",
      "Requirement already satisfied: attrs>=23.2.0 in c:\\users\\user\\appdata\\roaming\\python\\python311\\site-packages (from trio~=0.17->selenium) (23.2.0)\n",
      "Requirement already satisfied: sortedcontainers in c:\\programdata\\anaconda3\\lib\\site-packages (from trio~=0.17->selenium) (2.4.0)\n",
      "Requirement already satisfied: idna in c:\\programdata\\anaconda3\\lib\\site-packages (from trio~=0.17->selenium) (3.4)\n",
      "Requirement already satisfied: outcome in c:\\users\\user\\appdata\\roaming\\python\\python311\\site-packages (from trio~=0.17->selenium) (1.3.0.post0)\n",
      "Requirement already satisfied: sniffio>=1.3.0 in c:\\programdata\\anaconda3\\lib\\site-packages (from trio~=0.17->selenium) (1.3.0)\n",
      "Requirement already satisfied: cffi>=1.14 in c:\\programdata\\anaconda3\\lib\\site-packages (from trio~=0.17->selenium) (1.16.0)\n",
      "Requirement already satisfied: wsproto>=0.14 in c:\\users\\user\\appdata\\roaming\\python\\python311\\site-packages (from trio-websocket~=0.9->selenium) (1.2.0)\n",
      "Requirement already satisfied: pysocks!=1.5.7,<2.0,>=1.5.6 in c:\\programdata\\anaconda3\\lib\\site-packages (from urllib3[socks]<3,>=1.26->selenium) (1.7.1)\n",
      "Requirement already satisfied: pycparser in c:\\programdata\\anaconda3\\lib\\site-packages (from cffi>=1.14->trio~=0.17->selenium) (2.21)\n",
      "Requirement already satisfied: h11<1,>=0.9.0 in c:\\users\\user\\appdata\\roaming\\python\\python311\\site-packages (from wsproto>=0.14->trio-websocket~=0.9->selenium) (0.14.0)\n",
      "Note: you may need to restart the kernel to use updated packages.\n"
     ]
    }
   ],
   "source": [
    "pip install selenium"
   ]
  },
  {
   "cell_type": "code",
   "execution_count": 67,
   "metadata": {},
   "outputs": [],
   "source": [
    "chrome_driver_path = r'C:\\Users\\user\\cache\\selenium\\chromedriver\\win64\\123.0.6312.122\\chromedriver.exe'\n",
    "\n"
   ]
  },
  {
   "cell_type": "code",
   "execution_count": 68,
   "metadata": {},
   "outputs": [
    {
     "data": {
      "text/plain": [
       "'C:\\\\Users\\\\user\\\\cache\\\\selenium\\\\chromedriver\\\\win64\\\\123.0.6312.122\\\\chromedriver.exe'"
      ]
     },
     "execution_count": 68,
     "metadata": {},
     "output_type": "execute_result"
    }
   ],
   "source": [
    "chrome_driver_path"
   ]
  },
  {
   "cell_type": "code",
   "execution_count": 69,
   "metadata": {},
   "outputs": [
    {
     "name": "stdout",
     "output_type": "stream",
     "text": [
      "Defaulting to user installation because normal site-packages is not writeable\n",
      "Requirement already satisfied: webdriver-manager in c:\\users\\user\\appdata\\roaming\\python\\python311\\site-packages (4.0.1)\n",
      "Requirement already satisfied: requests in c:\\programdata\\anaconda3\\lib\\site-packages (from webdriver-manager) (2.31.0)\n",
      "Requirement already satisfied: python-dotenv in c:\\programdata\\anaconda3\\lib\\site-packages (from webdriver-manager) (0.21.0)\n",
      "Requirement already satisfied: packaging in c:\\programdata\\anaconda3\\lib\\site-packages (from webdriver-manager) (23.1)\n",
      "Requirement already satisfied: charset-normalizer<4,>=2 in c:\\programdata\\anaconda3\\lib\\site-packages (from requests->webdriver-manager) (2.0.4)\n",
      "Requirement already satisfied: idna<4,>=2.5 in c:\\programdata\\anaconda3\\lib\\site-packages (from requests->webdriver-manager) (3.4)\n",
      "Requirement already satisfied: urllib3<3,>=1.21.1 in c:\\programdata\\anaconda3\\lib\\site-packages (from requests->webdriver-manager) (2.0.7)\n",
      "Requirement already satisfied: certifi>=2017.4.17 in c:\\programdata\\anaconda3\\lib\\site-packages (from requests->webdriver-manager) (2024.2.2)\n",
      "Note: you may need to restart the kernel to use updated packages.\n"
     ]
    }
   ],
   "source": [
    "pip install webdriver-manager"
   ]
  },
  {
   "cell_type": "code",
   "execution_count": 118,
   "metadata": {},
   "outputs": [],
   "source": [
    "import time\n",
    "from selenium import webdriver\n",
    "from selenium.webdriver.common.by import By\n",
    "from selenium.webdriver.chrome.service import Service\n",
    "from webdriver_manager.chrome import ChromeDriverManager\n",
    "import pandas as pd\n",
    "\n"
   ]
  },
  {
   "cell_type": "code",
   "execution_count": 212,
   "metadata": {},
   "outputs": [],
   "source": [
    "# Selenium 설정\n",
    "options = webdriver.ChromeOptions()\n",
    "# options.add_argument(\"--headless\")  # 브라우저를 띄우지 않고 실행\n",
    "driver = webdriver.Chrome(service=Service(ChromeDriverManager().install()), options=options)"
   ]
  },
  {
   "cell_type": "code",
   "execution_count": 213,
   "metadata": {},
   "outputs": [],
   "source": [
    "# 알리익스프레스 메인 페이지로 이동\n",
    "driver.get(\"https://www.aliexpress.com/gcp/300001064/aptaxwR82N?spm=a2g0o.best.testStatic.3.2301423aPcbZGZ&disableNav=YES&pha_manifest=ssr&_immersiveMode=true\")"
   ]
  },
  {
   "cell_type": "code",
   "execution_count": 214,
   "metadata": {},
   "outputs": [],
   "source": [
    "# 페이지 로드 대기\n",
    "time.sleep(5)"
   ]
  },
  {
   "cell_type": "code",
   "execution_count": 215,
   "metadata": {},
   "outputs": [],
   "source": [
    "# 스포츠 및 엔터테인먼트 카테고리로 이동\n",
    "# XPath를 사용하여 스포츠 및 엔터테인먼트 카테고리 버튼을 찾고 클릭\n",
    "category_button = driver.find_element(By.XPATH, '/html/body/section/div/div/div/div/div[3]/div[2]/div/div/div[3]/div[1]/div/div/div/div/div/div[1]/div/div/div[4]/div/span')\n",
    "category_button.click()"
   ]
  },
  {
   "cell_type": "code",
   "execution_count": 216,
   "metadata": {},
   "outputs": [],
   "source": [
    "# 페이지 로드 대기\n",
    "time.sleep(5)"
   ]
  },
  {
   "cell_type": "code",
   "execution_count": 217,
   "metadata": {},
   "outputs": [],
   "source": [
    "# 제품 정보를 담을 리스트 초기화\n",
    "products = []"
   ]
  },
  {
   "cell_type": "code",
   "execution_count": 218,
   "metadata": {},
   "outputs": [],
   "source": [
    "# 가격 추출을 위한 XPath\n",
    "price_xpath = '//div[@class=\"rax-view-v2\"]/div/span[contains(@class, \"rax-text-v2\")]/text()'"
   ]
  },
  {
   "cell_type": "code",
   "execution_count": 219,
   "metadata": {},
   "outputs": [],
   "source": [
    "# 상위 30개 제품만 추출\n",
    "product_elements = driver.find_elements(By.CLASS_NAME, 'rax-view-v2')[:30]\n",
    "\n",
    "for product in product_elements:\n",
    "    try:\n",
    "        # 제품명 추출\n",
    "        title_element = product.find_element(By.CLASS_NAME, 'AIC-T-text')\n",
    "        title = title_element.text.strip()\n",
    "    except:\n",
    "        title = 'No title found'\n",
    "    \n",
    "    try:\n",
    "        # 가격 추출\n",
    "        price_elements = product.find_elements(By.CLASS_NAME, 'rax-text-v2')\n",
    "        price = ''.join([price_element.text.strip() for price_element in price_elements])\n",
    "    except:\n",
    "        price = 'No price found'\n",
    "    \n",
    "    products.append({'Title': title, 'Price': price})"
   ]
  },
  {
   "cell_type": "code",
   "execution_count": 220,
   "metadata": {},
   "outputs": [
    {
     "data": {
      "text/plain": [
       "[{'Title': '',\n",
       "  'Price': '\\ueee5컴퓨터 & 오피스Home Garden자동차 및 오토바이전자제품장난감 & 취미템스포츠 및 엔터테인먼트휴대폰 & 통신\\ueee9\\ueee5컴퓨터 & 오피스Home Garden자동차 및 오토바이전자제품장난감 & 취미템스포츠 및 엔터테인먼트휴대폰 & 통신\\ueee9₩390코인으로 추가 2% 할인₩1,381₩3,435-59%코인으로 추가 2% 할인₩8,051₩15,725-48%코인으로 추가 2% 할인₩2,274₩1,301코인으로 추가 6% 할인₩5,639₩26,342-78%코인으로 추가 2% 할인₩1,381₩1,942-28%코인으로 추가 2% 할인₩15,612₩42,583-63%코인으로 추가 2% 할인₩4,224₩3,950₩13,743-71%코인으로 추가 2% 할인₩1,381₩12,613-89%코인으로 추가 2% 할인₩1,953코인으로 추가 3% 할인₩1,381₩9,433-85%코인으로 추가 2% 할인₩1,381₩1,619-14%₩838코인으로 추가 2% 할인'},\n",
       " {'Title': '',\n",
       "  'Price': '\\ueee5컴퓨터 & 오피스Home Garden자동차 및 오토바이전자제품장난감 & 취미템스포츠 및 엔터테인먼트휴대폰 & 통신\\ueee9\\ueee5컴퓨터 & 오피스Home Garden자동차 및 오토바이전자제품장난감 & 취미템스포츠 및 엔터테인먼트휴대폰 & 통신\\ueee9₩390코인으로 추가 2% 할인₩1,381₩3,435-59%코인으로 추가 2% 할인₩8,051₩15,725-48%코인으로 추가 2% 할인₩2,274₩1,301코인으로 추가 6% 할인₩5,639₩26,342-78%코인으로 추가 2% 할인₩1,381₩1,942-28%코인으로 추가 2% 할인₩15,612₩42,583-63%코인으로 추가 2% 할인₩4,224₩3,950₩13,743-71%코인으로 추가 2% 할인₩1,381₩12,613-89%코인으로 추가 2% 할인₩1,953코인으로 추가 3% 할인₩1,381₩9,433-85%코인으로 추가 2% 할인₩1,381₩1,619-14%₩838코인으로 추가 2% 할인'},\n",
       " {'Title': '',\n",
       "  'Price': '\\ueee5컴퓨터 & 오피스Home Garden자동차 및 오토바이전자제품장난감 & 취미템스포츠 및 엔터테인먼트휴대폰 & 통신\\ueee9\\ueee5컴퓨터 & 오피스Home Garden자동차 및 오토바이전자제품장난감 & 취미템스포츠 및 엔터테인먼트휴대폰 & 통신\\ueee9₩390코인으로 추가 2% 할인₩1,381₩3,435-59%코인으로 추가 2% 할인₩8,051₩15,725-48%코인으로 추가 2% 할인₩2,274₩1,301코인으로 추가 6% 할인₩5,639₩26,342-78%코인으로 추가 2% 할인₩1,381₩1,942-28%코인으로 추가 2% 할인₩15,612₩42,583-63%코인으로 추가 2% 할인₩4,224₩3,950₩13,743-71%코인으로 추가 2% 할인₩1,381₩12,613-89%코인으로 추가 2% 할인₩1,953코인으로 추가 3% 할인₩1,381₩9,433-85%코인으로 추가 2% 할인₩1,381₩1,619-14%₩838코인으로 추가 2% 할인'},\n",
       " {'Title': 'No title found', 'Price': ''},\n",
       " {'Title': 'No title found', 'Price': ''},\n",
       " {'Title': 'No title found', 'Price': ''},\n",
       " {'Title': 'No title found', 'Price': ''},\n",
       " {'Title': '',\n",
       "  'Price': '\\ueee5컴퓨터 & 오피스Home Garden자동차 및 오토바이전자제품장난감 & 취미템스포츠 및 엔터테인먼트휴대폰 & 통신\\ueee9\\ueee5컴퓨터 & 오피스Home Garden자동차 및 오토바이전자제품장난감 & 취미템스포츠 및 엔터테인먼트휴대폰 & 통신\\ueee9₩390코인으로 추가 2% 할인₩1,381₩3,435-59%코인으로 추가 2% 할인₩8,051₩15,725-48%코인으로 추가 2% 할인₩2,274₩1,301코인으로 추가 6% 할인₩5,639₩26,342-78%코인으로 추가 2% 할인₩1,381₩1,942-28%코인으로 추가 2% 할인₩15,612₩42,583-63%코인으로 추가 2% 할인₩4,224₩3,950₩13,743-71%코인으로 추가 2% 할인₩1,381₩12,613-89%코인으로 추가 2% 할인₩1,953코인으로 추가 3% 할인₩1,381₩9,433-85%코인으로 추가 2% 할인₩1,381₩1,619-14%₩838코인으로 추가 2% 할인'},\n",
       " {'Title': 'No title found', 'Price': ''},\n",
       " {'Title': '',\n",
       "  'Price': '\\ueee5컴퓨터 & 오피스Home Garden자동차 및 오토바이전자제품장난감 & 취미템스포츠 및 엔터테인먼트휴대폰 & 통신\\ueee9\\ueee5컴퓨터 & 오피스Home Garden자동차 및 오토바이전자제품장난감 & 취미템스포츠 및 엔터테인먼트휴대폰 & 통신\\ueee9₩390코인으로 추가 2% 할인₩1,381₩3,435-59%코인으로 추가 2% 할인₩8,051₩15,725-48%코인으로 추가 2% 할인₩2,274₩1,301코인으로 추가 6% 할인₩5,639₩26,342-78%코인으로 추가 2% 할인₩1,381₩1,942-28%코인으로 추가 2% 할인₩15,612₩42,583-63%코인으로 추가 2% 할인₩4,224₩3,950₩13,743-71%코인으로 추가 2% 할인₩1,381₩12,613-89%코인으로 추가 2% 할인₩1,953코인으로 추가 3% 할인₩1,381₩9,433-85%코인으로 추가 2% 할인₩1,381₩1,619-14%₩838코인으로 추가 2% 할인'},\n",
       " {'Title': '',\n",
       "  'Price': '\\ueee5컴퓨터 & 오피스Home Garden자동차 및 오토바이전자제품장난감 & 취미템스포츠 및 엔터테인먼트휴대폰 & 통신\\ueee9\\ueee5컴퓨터 & 오피스Home Garden자동차 및 오토바이전자제품장난감 & 취미템스포츠 및 엔터테인먼트휴대폰 & 통신\\ueee9₩390코인으로 추가 2% 할인₩1,381₩3,435-59%코인으로 추가 2% 할인₩8,051₩15,725-48%코인으로 추가 2% 할인₩2,274₩1,301코인으로 추가 6% 할인₩5,639₩26,342-78%코인으로 추가 2% 할인₩1,381₩1,942-28%코인으로 추가 2% 할인₩15,612₩42,583-63%코인으로 추가 2% 할인₩4,224₩3,950₩13,743-71%코인으로 추가 2% 할인₩1,381₩12,613-89%코인으로 추가 2% 할인₩1,953코인으로 추가 3% 할인₩1,381₩9,433-85%코인으로 추가 2% 할인₩1,381₩1,619-14%₩838코인으로 추가 2% 할인'},\n",
       " {'Title': '',\n",
       "  'Price': '\\ueee5컴퓨터 & 오피스Home Garden자동차 및 오토바이전자제품장난감 & 취미템스포츠 및 엔터테인먼트휴대폰 & 통신\\ueee9\\ueee5컴퓨터 & 오피스Home Garden자동차 및 오토바이전자제품장난감 & 취미템스포츠 및 엔터테인먼트휴대폰 & 통신\\ueee9₩390코인으로 추가 2% 할인₩1,381₩3,435-59%코인으로 추가 2% 할인₩8,051₩15,725-48%코인으로 추가 2% 할인₩2,274₩1,301코인으로 추가 6% 할인₩5,639₩26,342-78%코인으로 추가 2% 할인₩1,381₩1,942-28%코인으로 추가 2% 할인₩15,612₩42,583-63%코인으로 추가 2% 할인₩4,224₩3,950₩13,743-71%코인으로 추가 2% 할인₩1,381₩12,613-89%코인으로 추가 2% 할인₩1,953코인으로 추가 3% 할인₩1,381₩9,433-85%코인으로 추가 2% 할인₩1,381₩1,619-14%₩838코인으로 추가 2% 할인'},\n",
       " {'Title': 'No title found',\n",
       "  'Price': '\\ueee5컴퓨터 & 오피스Home Garden자동차 및 오토바이전자제품장난감 & 취미템스포츠 및 엔터테인먼트휴대폰 & 통신\\ueee9'},\n",
       " {'Title': 'No title found',\n",
       "  'Price': '\\ueee5컴퓨터 & 오피스Home Garden자동차 및 오토바이전자제품장난감 & 취미템스포츠 및 엔터테인먼트휴대폰 & 통신\\ueee9'},\n",
       " {'Title': 'No title found',\n",
       "  'Price': '\\ueee5컴퓨터 & 오피스Home Garden자동차 및 오토바이전자제품장난감 & 취미템스포츠 및 엔터테인먼트휴대폰 & 통신\\ueee9'},\n",
       " {'Title': 'No title found',\n",
       "  'Price': '\\ueee5컴퓨터 & 오피스Home Garden자동차 및 오토바이전자제품장난감 & 취미템스포츠 및 엔터테인먼트휴대폰 & 통신\\ueee9'},\n",
       " {'Title': 'No title found',\n",
       "  'Price': '\\ueee5컴퓨터 & 오피스Home Garden자동차 및 오토바이전자제품장난감 & 취미템스포츠 및 엔터테인먼트휴대폰 & 통신\\ueee9'},\n",
       " {'Title': 'No title found', 'Price': '\\ueee5'},\n",
       " {'Title': 'No title found',\n",
       "  'Price': '컴퓨터 & 오피스Home Garden자동차 및 오토바이전자제품장난감 & 취미템스포츠 및 엔터테인먼트휴대폰 & 통신'},\n",
       " {'Title': 'No title found',\n",
       "  'Price': '컴퓨터 & 오피스Home Garden자동차 및 오토바이전자제품장난감 & 취미템스포츠 및 엔터테인먼트휴대폰 & 통신'},\n",
       " {'Title': 'No title found',\n",
       "  'Price': '컴퓨터 & 오피스Home Garden자동차 및 오토바이전자제품장난감 & 취미템스포츠 및 엔터테인먼트휴대폰 & 통신'},\n",
       " {'Title': 'No title found', 'Price': '컴퓨터 & 오피스'},\n",
       " {'Title': 'No title found', 'Price': '컴퓨터 & 오피스'},\n",
       " {'Title': 'No title found', 'Price': 'Home Garden'},\n",
       " {'Title': 'No title found', 'Price': 'Home Garden'},\n",
       " {'Title': 'No title found', 'Price': '자동차 및 오토바이'},\n",
       " {'Title': 'No title found', 'Price': '자동차 및 오토바이'},\n",
       " {'Title': 'No title found', 'Price': '전자제품'},\n",
       " {'Title': 'No title found', 'Price': '전자제품'},\n",
       " {'Title': 'No title found', 'Price': '장난감 & 취미템'}]"
      ]
     },
     "execution_count": 220,
     "metadata": {},
     "output_type": "execute_result"
    }
   ],
   "source": [
    "products"
   ]
  },
  {
   "cell_type": "code",
   "execution_count": 221,
   "metadata": {},
   "outputs": [
    {
     "name": "stdout",
     "output_type": "stream",
     "text": [
      "{'Title': '', 'Price': '\\ueee5컴퓨터 & 오피스Home Garden자동차 및 오토바이전자제품장난감 & 취미템스포츠 및 엔터테인먼트휴대폰 & 통신\\ueee9\\ueee5컴퓨터 & 오피스Home Garden자동차 및 오토바이전자제품장난감 & 취미템스포츠 및 엔터테인먼트휴대폰 & 통신\\ueee9₩390코인으로 추가 2% 할인₩1,381₩3,435-59%코인으로 추가 2% 할인₩8,051₩15,725-48%코인으로 추가 2% 할인₩2,274₩1,301코인으로 추가 6% 할인₩5,639₩26,342-78%코인으로 추가 2% 할인₩1,381₩1,942-28%코인으로 추가 2% 할인₩15,612₩42,583-63%코인으로 추가 2% 할인₩4,224₩3,950₩13,743-71%코인으로 추가 2% 할인₩1,381₩12,613-89%코인으로 추가 2% 할인₩1,953코인으로 추가 3% 할인₩1,381₩9,433-85%코인으로 추가 2% 할인₩1,381₩1,619-14%₩838코인으로 추가 2% 할인'}\n",
      "{'Title': '', 'Price': '\\ueee5컴퓨터 & 오피스Home Garden자동차 및 오토바이전자제품장난감 & 취미템스포츠 및 엔터테인먼트휴대폰 & 통신\\ueee9\\ueee5컴퓨터 & 오피스Home Garden자동차 및 오토바이전자제품장난감 & 취미템스포츠 및 엔터테인먼트휴대폰 & 통신\\ueee9₩390코인으로 추가 2% 할인₩1,381₩3,435-59%코인으로 추가 2% 할인₩8,051₩15,725-48%코인으로 추가 2% 할인₩2,274₩1,301코인으로 추가 6% 할인₩5,639₩26,342-78%코인으로 추가 2% 할인₩1,381₩1,942-28%코인으로 추가 2% 할인₩15,612₩42,583-63%코인으로 추가 2% 할인₩4,224₩3,950₩13,743-71%코인으로 추가 2% 할인₩1,381₩12,613-89%코인으로 추가 2% 할인₩1,953코인으로 추가 3% 할인₩1,381₩9,433-85%코인으로 추가 2% 할인₩1,381₩1,619-14%₩838코인으로 추가 2% 할인'}\n",
      "{'Title': '', 'Price': '\\ueee5컴퓨터 & 오피스Home Garden자동차 및 오토바이전자제품장난감 & 취미템스포츠 및 엔터테인먼트휴대폰 & 통신\\ueee9\\ueee5컴퓨터 & 오피스Home Garden자동차 및 오토바이전자제품장난감 & 취미템스포츠 및 엔터테인먼트휴대폰 & 통신\\ueee9₩390코인으로 추가 2% 할인₩1,381₩3,435-59%코인으로 추가 2% 할인₩8,051₩15,725-48%코인으로 추가 2% 할인₩2,274₩1,301코인으로 추가 6% 할인₩5,639₩26,342-78%코인으로 추가 2% 할인₩1,381₩1,942-28%코인으로 추가 2% 할인₩15,612₩42,583-63%코인으로 추가 2% 할인₩4,224₩3,950₩13,743-71%코인으로 추가 2% 할인₩1,381₩12,613-89%코인으로 추가 2% 할인₩1,953코인으로 추가 3% 할인₩1,381₩9,433-85%코인으로 추가 2% 할인₩1,381₩1,619-14%₩838코인으로 추가 2% 할인'}\n",
      "{'Title': 'No title found', 'Price': ''}\n",
      "{'Title': 'No title found', 'Price': ''}\n",
      "{'Title': 'No title found', 'Price': ''}\n",
      "{'Title': 'No title found', 'Price': ''}\n",
      "{'Title': '', 'Price': '\\ueee5컴퓨터 & 오피스Home Garden자동차 및 오토바이전자제품장난감 & 취미템스포츠 및 엔터테인먼트휴대폰 & 통신\\ueee9\\ueee5컴퓨터 & 오피스Home Garden자동차 및 오토바이전자제품장난감 & 취미템스포츠 및 엔터테인먼트휴대폰 & 통신\\ueee9₩390코인으로 추가 2% 할인₩1,381₩3,435-59%코인으로 추가 2% 할인₩8,051₩15,725-48%코인으로 추가 2% 할인₩2,274₩1,301코인으로 추가 6% 할인₩5,639₩26,342-78%코인으로 추가 2% 할인₩1,381₩1,942-28%코인으로 추가 2% 할인₩15,612₩42,583-63%코인으로 추가 2% 할인₩4,224₩3,950₩13,743-71%코인으로 추가 2% 할인₩1,381₩12,613-89%코인으로 추가 2% 할인₩1,953코인으로 추가 3% 할인₩1,381₩9,433-85%코인으로 추가 2% 할인₩1,381₩1,619-14%₩838코인으로 추가 2% 할인'}\n",
      "{'Title': 'No title found', 'Price': ''}\n",
      "{'Title': '', 'Price': '\\ueee5컴퓨터 & 오피스Home Garden자동차 및 오토바이전자제품장난감 & 취미템스포츠 및 엔터테인먼트휴대폰 & 통신\\ueee9\\ueee5컴퓨터 & 오피스Home Garden자동차 및 오토바이전자제품장난감 & 취미템스포츠 및 엔터테인먼트휴대폰 & 통신\\ueee9₩390코인으로 추가 2% 할인₩1,381₩3,435-59%코인으로 추가 2% 할인₩8,051₩15,725-48%코인으로 추가 2% 할인₩2,274₩1,301코인으로 추가 6% 할인₩5,639₩26,342-78%코인으로 추가 2% 할인₩1,381₩1,942-28%코인으로 추가 2% 할인₩15,612₩42,583-63%코인으로 추가 2% 할인₩4,224₩3,950₩13,743-71%코인으로 추가 2% 할인₩1,381₩12,613-89%코인으로 추가 2% 할인₩1,953코인으로 추가 3% 할인₩1,381₩9,433-85%코인으로 추가 2% 할인₩1,381₩1,619-14%₩838코인으로 추가 2% 할인'}\n",
      "{'Title': '', 'Price': '\\ueee5컴퓨터 & 오피스Home Garden자동차 및 오토바이전자제품장난감 & 취미템스포츠 및 엔터테인먼트휴대폰 & 통신\\ueee9\\ueee5컴퓨터 & 오피스Home Garden자동차 및 오토바이전자제품장난감 & 취미템스포츠 및 엔터테인먼트휴대폰 & 통신\\ueee9₩390코인으로 추가 2% 할인₩1,381₩3,435-59%코인으로 추가 2% 할인₩8,051₩15,725-48%코인으로 추가 2% 할인₩2,274₩1,301코인으로 추가 6% 할인₩5,639₩26,342-78%코인으로 추가 2% 할인₩1,381₩1,942-28%코인으로 추가 2% 할인₩15,612₩42,583-63%코인으로 추가 2% 할인₩4,224₩3,950₩13,743-71%코인으로 추가 2% 할인₩1,381₩12,613-89%코인으로 추가 2% 할인₩1,953코인으로 추가 3% 할인₩1,381₩9,433-85%코인으로 추가 2% 할인₩1,381₩1,619-14%₩838코인으로 추가 2% 할인'}\n",
      "{'Title': '', 'Price': '\\ueee5컴퓨터 & 오피스Home Garden자동차 및 오토바이전자제품장난감 & 취미템스포츠 및 엔터테인먼트휴대폰 & 통신\\ueee9\\ueee5컴퓨터 & 오피스Home Garden자동차 및 오토바이전자제품장난감 & 취미템스포츠 및 엔터테인먼트휴대폰 & 통신\\ueee9₩390코인으로 추가 2% 할인₩1,381₩3,435-59%코인으로 추가 2% 할인₩8,051₩15,725-48%코인으로 추가 2% 할인₩2,274₩1,301코인으로 추가 6% 할인₩5,639₩26,342-78%코인으로 추가 2% 할인₩1,381₩1,942-28%코인으로 추가 2% 할인₩15,612₩42,583-63%코인으로 추가 2% 할인₩4,224₩3,950₩13,743-71%코인으로 추가 2% 할인₩1,381₩12,613-89%코인으로 추가 2% 할인₩1,953코인으로 추가 3% 할인₩1,381₩9,433-85%코인으로 추가 2% 할인₩1,381₩1,619-14%₩838코인으로 추가 2% 할인'}\n",
      "{'Title': 'No title found', 'Price': '\\ueee5컴퓨터 & 오피스Home Garden자동차 및 오토바이전자제품장난감 & 취미템스포츠 및 엔터테인먼트휴대폰 & 통신\\ueee9'}\n",
      "{'Title': 'No title found', 'Price': '\\ueee5컴퓨터 & 오피스Home Garden자동차 및 오토바이전자제품장난감 & 취미템스포츠 및 엔터테인먼트휴대폰 & 통신\\ueee9'}\n",
      "{'Title': 'No title found', 'Price': '\\ueee5컴퓨터 & 오피스Home Garden자동차 및 오토바이전자제품장난감 & 취미템스포츠 및 엔터테인먼트휴대폰 & 통신\\ueee9'}\n",
      "{'Title': 'No title found', 'Price': '\\ueee5컴퓨터 & 오피스Home Garden자동차 및 오토바이전자제품장난감 & 취미템스포츠 및 엔터테인먼트휴대폰 & 통신\\ueee9'}\n",
      "{'Title': 'No title found', 'Price': '\\ueee5컴퓨터 & 오피스Home Garden자동차 및 오토바이전자제품장난감 & 취미템스포츠 및 엔터테인먼트휴대폰 & 통신\\ueee9'}\n",
      "{'Title': 'No title found', 'Price': '\\ueee5'}\n",
      "{'Title': 'No title found', 'Price': '컴퓨터 & 오피스Home Garden자동차 및 오토바이전자제품장난감 & 취미템스포츠 및 엔터테인먼트휴대폰 & 통신'}\n",
      "{'Title': 'No title found', 'Price': '컴퓨터 & 오피스Home Garden자동차 및 오토바이전자제품장난감 & 취미템스포츠 및 엔터테인먼트휴대폰 & 통신'}\n",
      "{'Title': 'No title found', 'Price': '컴퓨터 & 오피스Home Garden자동차 및 오토바이전자제품장난감 & 취미템스포츠 및 엔터테인먼트휴대폰 & 통신'}\n",
      "{'Title': 'No title found', 'Price': '컴퓨터 & 오피스'}\n",
      "{'Title': 'No title found', 'Price': '컴퓨터 & 오피스'}\n",
      "{'Title': 'No title found', 'Price': 'Home Garden'}\n",
      "{'Title': 'No title found', 'Price': 'Home Garden'}\n",
      "{'Title': 'No title found', 'Price': '자동차 및 오토바이'}\n",
      "{'Title': 'No title found', 'Price': '자동차 및 오토바이'}\n",
      "{'Title': 'No title found', 'Price': '전자제품'}\n",
      "{'Title': 'No title found', 'Price': '전자제품'}\n",
      "{'Title': 'No title found', 'Price': '장난감 & 취미템'}\n"
     ]
    }
   ],
   "source": [
    "# 추출한 제품 정보 출력\n",
    "for product in products:\n",
    "    print(product)\n"
   ]
  },
  {
   "cell_type": "code",
   "execution_count": null,
   "metadata": {},
   "outputs": [],
   "source": []
  },
  {
   "cell_type": "code",
   "execution_count": null,
   "metadata": {},
   "outputs": [],
   "source": []
  },
  {
   "cell_type": "code",
   "execution_count": null,
   "metadata": {},
   "outputs": [],
   "source": []
  }
 ],
 "metadata": {
  "kernelspec": {
   "display_name": "base",
   "language": "python",
   "name": "python3"
  },
  "language_info": {
   "codemirror_mode": {
    "name": "ipython",
    "version": 3
   },
   "file_extension": ".py",
   "mimetype": "text/x-python",
   "name": "python",
   "nbconvert_exporter": "python",
   "pygments_lexer": "ipython3",
   "version": "3.11.7"
  }
 },
 "nbformat": 4,
 "nbformat_minor": 2
}
