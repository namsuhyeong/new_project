{
 "cells": [
  {
   "cell_type": "code",
   "execution_count": 2,
   "metadata": {},
   "outputs": [
    {
     "name": "stdout",
     "output_type": "stream",
     "text": [
      "Collecting matplotlib\n",
      "  Downloading matplotlib-3.9.0-cp310-cp310-win_amd64.whl.metadata (11 kB)\n",
      "Collecting contourpy>=1.0.1 (from matplotlib)\n",
      "  Using cached contourpy-1.2.1-cp310-cp310-win_amd64.whl.metadata (5.8 kB)\n",
      "Collecting cycler>=0.10 (from matplotlib)\n",
      "  Using cached cycler-0.12.1-py3-none-any.whl.metadata (3.8 kB)\n",
      "Collecting fonttools>=4.22.0 (from matplotlib)\n",
      "  Downloading fonttools-4.53.0-cp310-cp310-win_amd64.whl.metadata (165 kB)\n",
      "     ---------------------------------------- 0.0/165.5 kB ? eta -:--:--\n",
      "     -------------------------------------  163.8/165.5 kB 5.0 MB/s eta 0:00:01\n",
      "     -------------------------------------- 165.5/165.5 kB 5.0 MB/s eta 0:00:00\n",
      "Collecting kiwisolver>=1.3.1 (from matplotlib)\n",
      "  Using cached kiwisolver-1.4.5-cp310-cp310-win_amd64.whl.metadata (6.5 kB)\n",
      "Requirement already satisfied: numpy>=1.23 in c:\\users\\user\\.conda\\envs\\malcam\\lib\\site-packages (from matplotlib) (1.26.4)\n",
      "Requirement already satisfied: packaging>=20.0 in c:\\users\\user\\.conda\\envs\\malcam\\lib\\site-packages (from matplotlib) (24.0)\n",
      "Requirement already satisfied: pillow>=8 in c:\\users\\user\\.conda\\envs\\malcam\\lib\\site-packages (from matplotlib) (10.3.0)\n",
      "Collecting pyparsing>=2.3.1 (from matplotlib)\n",
      "  Using cached pyparsing-3.1.2-py3-none-any.whl.metadata (5.1 kB)\n",
      "Requirement already satisfied: python-dateutil>=2.7 in c:\\users\\user\\appdata\\roaming\\python\\python310\\site-packages (from matplotlib) (2.9.0.post0)\n",
      "Requirement already satisfied: six>=1.5 in c:\\users\\user\\appdata\\roaming\\python\\python310\\site-packages (from python-dateutil>=2.7->matplotlib) (1.16.0)\n",
      "Downloading matplotlib-3.9.0-cp310-cp310-win_amd64.whl (8.0 MB)\n",
      "   ---------------------------------------- 0.0/8.0 MB ? eta -:--:--\n",
      "   -- ------------------------------------- 0.5/8.0 MB 13.8 MB/s eta 0:00:01\n",
      "   ----- ---------------------------------- 1.0/8.0 MB 12.7 MB/s eta 0:00:01\n",
      "   ------- -------------------------------- 1.5/8.0 MB 12.2 MB/s eta 0:00:01\n",
      "   ---------- ----------------------------- 2.1/8.0 MB 12.0 MB/s eta 0:00:01\n",
      "   ------------- -------------------------- 2.6/8.0 MB 11.9 MB/s eta 0:00:01\n",
      "   --------------- ------------------------ 3.1/8.0 MB 12.5 MB/s eta 0:00:01\n",
      "   --------------- ------------------------ 3.1/8.0 MB 12.5 MB/s eta 0:00:01\n",
      "   --------------- ------------------------ 3.1/8.0 MB 12.5 MB/s eta 0:00:01\n",
      "   --------------- ------------------------ 3.1/8.0 MB 12.5 MB/s eta 0:00:01\n",
      "   --------------- ------------------------ 3.1/8.0 MB 12.5 MB/s eta 0:00:01\n",
      "   --------------- ------------------------ 3.1/8.0 MB 12.5 MB/s eta 0:00:01\n",
      "   ----------------- ---------------------- 3.5/8.0 MB 6.6 MB/s eta 0:00:01\n",
      "   -------------------- ------------------- 4.1/8.0 MB 7.0 MB/s eta 0:00:01\n",
      "   ---------------------- ----------------- 4.5/8.0 MB 7.1 MB/s eta 0:00:01\n",
      "   ------------------------- -------------- 5.0/8.0 MB 7.5 MB/s eta 0:00:01\n",
      "   --------------------------- ------------ 5.6/8.0 MB 7.7 MB/s eta 0:00:01\n",
      "   ------------------------------ --------- 6.1/8.0 MB 7.9 MB/s eta 0:00:01\n",
      "   --------------------------------- ------ 6.6/8.0 MB 8.1 MB/s eta 0:00:01\n",
      "   ------------------------------------ --- 7.2/8.0 MB 8.5 MB/s eta 0:00:01\n",
      "   -------------------------------------- - 7.7/8.0 MB 8.6 MB/s eta 0:00:01\n",
      "   ---------------------------------------- 8.0/8.0 MB 8.5 MB/s eta 0:00:00\n",
      "Using cached contourpy-1.2.1-cp310-cp310-win_amd64.whl (187 kB)\n",
      "Using cached cycler-0.12.1-py3-none-any.whl (8.3 kB)\n",
      "Downloading fonttools-4.53.0-cp310-cp310-win_amd64.whl (2.2 MB)\n",
      "   ---------------------------------------- 0.0/2.2 MB ? eta -:--:--\n",
      "   ---------- ----------------------------- 0.6/2.2 MB 12.4 MB/s eta 0:00:01\n",
      "   -------------------- ------------------- 1.1/2.2 MB 11.9 MB/s eta 0:00:01\n",
      "   ------------------------------ --------- 1.7/2.2 MB 11.7 MB/s eta 0:00:01\n",
      "   ---------------------------------------  2.2/2.2 MB 11.7 MB/s eta 0:00:01\n",
      "   ---------------------------------------- 2.2/2.2 MB 11.7 MB/s eta 0:00:00\n",
      "Using cached kiwisolver-1.4.5-cp310-cp310-win_amd64.whl (56 kB)\n",
      "Using cached pyparsing-3.1.2-py3-none-any.whl (103 kB)\n",
      "Installing collected packages: pyparsing, kiwisolver, fonttools, cycler, contourpy, matplotlib\n",
      "Successfully installed contourpy-1.2.1 cycler-0.12.1 fonttools-4.53.0 kiwisolver-1.4.5 matplotlib-3.9.0 pyparsing-3.1.2\n"
     ]
    }
   ],
   "source": [
    "!pip install matplotlib"
   ]
  },
  {
   "cell_type": "code",
   "execution_count": 59,
   "metadata": {},
   "outputs": [
    {
     "data": {
      "text/plain": [
       "(                                                 상품명      가격   평점  \\\n",
       " 0  SCVCN 사이클링 안경 자전거 선글라스, 남성 UV400 안경, 스포츠 MTB 야...   1,391  4.7   \n",
       " 1  역도 스트랩 실리콘 리프팅 손목 스트랩, 미끄럼 방지, 힘 훈련, 데드리프트 크로스...   1,391  4.8   \n",
       " 2  야외 캠핑 생존 랜야드 낙하산 로프 하이킹 텐트 액세서리, 7 코어 550 파라코드...   1,125  4.7   \n",
       " 3  접이식 대용량 접이식 왜건, 휴대용 유틸리티 카트, 쇼핑 비치 가든 풀 트롤리, 야...  25,785  4.7   \n",
       " 4  BISINNA 접이식 바베큐 라운드 테이블 스토브, 휴대용 캠핑 바베큐 숯 그릴, ...  16,411  4.8   \n",
       " \n",
       "                                                   댓글  \\\n",
       " 0                                                NaN   \n",
       " 1  배송은 생각보다 빨리도착했네요 손목 스트랩 1쌍~레드 디자인 이쁘고 마감처리 깔끔하...   \n",
       " 2  감사합니다\\n지퍼 손잡이 매듭용으로 좋습니다\\n잘받았습니다 잘받았습니다\\n이색인줄은...   \n",
       " 3  뭔 배송하면서 바닷물에 담궈서 가져오냐? 쓰기도 전에 녹슬어서 오는 메이드인 차이나...   \n",
       " 4  생각보다 너무괜찮은데요? 후기좋은 이유가있엇네요 불판도생각보다 두껍고튼튼한듯ㅎ 저사...   \n",
       " \n",
       "                                                   별점  \\\n",
       " 0                                                NaN   \n",
       " 1  5\\n5\\n5\\n5\\n5\\n5\\n5\\n5\\n5\\n5\\n5\\n5\\n5\\n5\\n5\\n5...   \n",
       " 2  5\\n5\\n5\\n5\\n5\\n5\\n5\\n3\\n5\\n5\\n5\\n5\\n4\\n5\\n4\\n5...   \n",
       " 3  5\\n5\\n5\\n5\\n5\\n5\\n4\\n4\\n5\\n5\\n5\\n5\\n5\\n5\\n5\\n4...   \n",
       " 4  5\\n5\\n5\\n5\\n5\\n5\\n5\\n5\\n5\\n4\\n5\\n5\\n5\\n5\\n5\\n5...   \n",
       " \n",
       "                                                   링크  \n",
       " 0  https://ko.aliexpress.com/item/100500592463696...  \n",
       " 1  https://ko.aliexpress.com/item/100500592457862...  \n",
       " 2  https://ko.aliexpress.com/item/100500522141320...  \n",
       " 3  https://ko.aliexpress.com/item/100500593200533...  \n",
       " 4  https://ko.aliexpress.com/item/100500626084886...  ,\n",
       " Index(['상품명', '가격', '평점', '댓글', '별점', '링크'], dtype='object'))"
      ]
     },
     "execution_count": 59,
     "metadata": {},
     "output_type": "execute_result"
    }
   ],
   "source": [
    "import pandas as pd\n",
    "import numpy as np\n",
    "import matplotlib.pyplot as plt\n",
    "import matplotlib.font_manager as fm\n",
    "import re\n",
    "\n",
    "# 한글 폰트 설정\n",
    "plt.rcParams['font.family'] = 'NanumGothic'\n",
    "\n",
    "# 폰트가 정상적으로 설정되었는지 확인\n",
    "font_path = '/usr/share/fonts/truetype/nanum/NanumGothic.ttf'\n",
    "fontprop = fm.FontProperties(fname=font_path)\n",
    "\n",
    "# 데이터 로드\n",
    "file_path = './알리_베스트셀러_리뷰.csv'\n",
    "data = pd.read_csv(file_path)\n",
    "\n",
    "# 데이터 컬럼 확인\n",
    "data.head(), data.columns\n"
   ]
  },
  {
   "cell_type": "code",
   "execution_count": 60,
   "metadata": {},
   "outputs": [
    {
     "data": {
      "text/html": [
       "<div>\n",
       "<style scoped>\n",
       "    .dataframe tbody tr th:only-of-type {\n",
       "        vertical-align: middle;\n",
       "    }\n",
       "\n",
       "    .dataframe tbody tr th {\n",
       "        vertical-align: top;\n",
       "    }\n",
       "\n",
       "    .dataframe thead th {\n",
       "        text-align: right;\n",
       "    }\n",
       "</style>\n",
       "<table border=\"1\" class=\"dataframe\">\n",
       "  <thead>\n",
       "    <tr style=\"text-align: right;\">\n",
       "      <th></th>\n",
       "      <th>상품명</th>\n",
       "      <th>가격</th>\n",
       "      <th>평점</th>\n",
       "      <th>댓글</th>\n",
       "      <th>별점</th>\n",
       "      <th>링크</th>\n",
       "    </tr>\n",
       "  </thead>\n",
       "  <tbody>\n",
       "    <tr>\n",
       "      <th>0</th>\n",
       "      <td>SCVCN 사이클링 안경 자전거 선글라스, 남성 UV400 안경, 스포츠 MTB 야...</td>\n",
       "      <td>1,391</td>\n",
       "      <td>4.7</td>\n",
       "      <td>NaN</td>\n",
       "      <td>NaN</td>\n",
       "      <td>https://ko.aliexpress.com/item/100500592463696...</td>\n",
       "    </tr>\n",
       "    <tr>\n",
       "      <th>1</th>\n",
       "      <td>역도 스트랩 실리콘 리프팅 손목 스트랩, 미끄럼 방지, 힘 훈련, 데드리프트 크로스...</td>\n",
       "      <td>1,391</td>\n",
       "      <td>4.8</td>\n",
       "      <td>배송은 생각보다 빨리도착했네요 손목 스트랩 1쌍~레드 디자인 이쁘고 마감처리 깔끔하...</td>\n",
       "      <td>5\\n5\\n5\\n5\\n5\\n5\\n5\\n5\\n5\\n5\\n5\\n5\\n5\\n5\\n5\\n5...</td>\n",
       "      <td>https://ko.aliexpress.com/item/100500592457862...</td>\n",
       "    </tr>\n",
       "    <tr>\n",
       "      <th>2</th>\n",
       "      <td>야외 캠핑 생존 랜야드 낙하산 로프 하이킹 텐트 액세서리, 7 코어 550 파라코드...</td>\n",
       "      <td>1,125</td>\n",
       "      <td>4.7</td>\n",
       "      <td>감사합니다\\n지퍼 손잡이 매듭용으로 좋습니다\\n잘받았습니다 잘받았습니다\\n이색인줄은...</td>\n",
       "      <td>5\\n5\\n5\\n5\\n5\\n5\\n5\\n3\\n5\\n5\\n5\\n5\\n4\\n5\\n4\\n5...</td>\n",
       "      <td>https://ko.aliexpress.com/item/100500522141320...</td>\n",
       "    </tr>\n",
       "    <tr>\n",
       "      <th>3</th>\n",
       "      <td>접이식 대용량 접이식 왜건, 휴대용 유틸리티 카트, 쇼핑 비치 가든 풀 트롤리, 야...</td>\n",
       "      <td>25,785</td>\n",
       "      <td>4.7</td>\n",
       "      <td>뭔 배송하면서 바닷물에 담궈서 가져오냐? 쓰기도 전에 녹슬어서 오는 메이드인 차이나...</td>\n",
       "      <td>5\\n5\\n5\\n5\\n5\\n5\\n4\\n4\\n5\\n5\\n5\\n5\\n5\\n5\\n5\\n4...</td>\n",
       "      <td>https://ko.aliexpress.com/item/100500593200533...</td>\n",
       "    </tr>\n",
       "    <tr>\n",
       "      <th>4</th>\n",
       "      <td>BISINNA 접이식 바베큐 라운드 테이블 스토브, 휴대용 캠핑 바베큐 숯 그릴, ...</td>\n",
       "      <td>16,411</td>\n",
       "      <td>4.8</td>\n",
       "      <td>생각보다 너무괜찮은데요? 후기좋은 이유가있엇네요 불판도생각보다 두껍고튼튼한듯ㅎ 저사...</td>\n",
       "      <td>5\\n5\\n5\\n5\\n5\\n5\\n5\\n5\\n5\\n4\\n5\\n5\\n5\\n5\\n5\\n5...</td>\n",
       "      <td>https://ko.aliexpress.com/item/100500626084886...</td>\n",
       "    </tr>\n",
       "  </tbody>\n",
       "</table>\n",
       "</div>"
      ],
      "text/plain": [
       "                                                 상품명      가격   평점  \\\n",
       "0  SCVCN 사이클링 안경 자전거 선글라스, 남성 UV400 안경, 스포츠 MTB 야...   1,391  4.7   \n",
       "1  역도 스트랩 실리콘 리프팅 손목 스트랩, 미끄럼 방지, 힘 훈련, 데드리프트 크로스...   1,391  4.8   \n",
       "2  야외 캠핑 생존 랜야드 낙하산 로프 하이킹 텐트 액세서리, 7 코어 550 파라코드...   1,125  4.7   \n",
       "3  접이식 대용량 접이식 왜건, 휴대용 유틸리티 카트, 쇼핑 비치 가든 풀 트롤리, 야...  25,785  4.7   \n",
       "4  BISINNA 접이식 바베큐 라운드 테이블 스토브, 휴대용 캠핑 바베큐 숯 그릴, ...  16,411  4.8   \n",
       "\n",
       "                                                  댓글  \\\n",
       "0                                                NaN   \n",
       "1  배송은 생각보다 빨리도착했네요 손목 스트랩 1쌍~레드 디자인 이쁘고 마감처리 깔끔하...   \n",
       "2  감사합니다\\n지퍼 손잡이 매듭용으로 좋습니다\\n잘받았습니다 잘받았습니다\\n이색인줄은...   \n",
       "3  뭔 배송하면서 바닷물에 담궈서 가져오냐? 쓰기도 전에 녹슬어서 오는 메이드인 차이나...   \n",
       "4  생각보다 너무괜찮은데요? 후기좋은 이유가있엇네요 불판도생각보다 두껍고튼튼한듯ㅎ 저사...   \n",
       "\n",
       "                                                  별점  \\\n",
       "0                                                NaN   \n",
       "1  5\\n5\\n5\\n5\\n5\\n5\\n5\\n5\\n5\\n5\\n5\\n5\\n5\\n5\\n5\\n5...   \n",
       "2  5\\n5\\n5\\n5\\n5\\n5\\n5\\n3\\n5\\n5\\n5\\n5\\n4\\n5\\n4\\n5...   \n",
       "3  5\\n5\\n5\\n5\\n5\\n5\\n4\\n4\\n5\\n5\\n5\\n5\\n5\\n5\\n5\\n4...   \n",
       "4  5\\n5\\n5\\n5\\n5\\n5\\n5\\n5\\n5\\n4\\n5\\n5\\n5\\n5\\n5\\n5...   \n",
       "\n",
       "                                                  링크  \n",
       "0  https://ko.aliexpress.com/item/100500592463696...  \n",
       "1  https://ko.aliexpress.com/item/100500592457862...  \n",
       "2  https://ko.aliexpress.com/item/100500522141320...  \n",
       "3  https://ko.aliexpress.com/item/100500593200533...  \n",
       "4  https://ko.aliexpress.com/item/100500626084886...  "
      ]
     },
     "execution_count": 60,
     "metadata": {},
     "output_type": "execute_result"
    }
   ],
   "source": [
    "data.head()"
   ]
  },
  {
   "cell_type": "code",
   "execution_count": 62,
   "metadata": {},
   "outputs": [
    {
     "name": "stdout",
     "output_type": "stream",
     "text": [
      "<class 'pandas.core.frame.DataFrame'>\n",
      "RangeIndex: 291 entries, 0 to 290\n",
      "Data columns (total 6 columns):\n",
      " #   Column  Non-Null Count  Dtype  \n",
      "---  ------  --------------  -----  \n",
      " 0   상품명     291 non-null    object \n",
      " 1   가격      291 non-null    object \n",
      " 2   평점      291 non-null    float64\n",
      " 3   댓글      265 non-null    object \n",
      " 4   별점      286 non-null    object \n",
      " 5   링크      291 non-null    object \n",
      "dtypes: float64(1), object(5)\n",
      "memory usage: 13.8+ KB\n"
     ]
    }
   ],
   "source": [
    "data.info()"
   ]
  },
  {
   "cell_type": "code",
   "execution_count": 63,
   "metadata": {},
   "outputs": [],
   "source": [
    "# '가격' 열에서 숫자만 추출\n",
    "def extract_price(price_str):\n",
    "    match = re.search(r'\\d+', str(price_str))\n",
    "    return int(match.group()) if match else None\n",
    "\n",
    "# '가격' 열의 문자열에서 쉼표(,)를 제거하고 숫자로 변환\n",
    "data['가격'] = data['가격'].str.replace(',', '').astype(int)\n"
   ]
  },
  {
   "cell_type": "code",
   "execution_count": 66,
   "metadata": {},
   "outputs": [],
   "source": [
    "# 데이터 정규화\n",
    "normalized_prices = (data['가격'] - data['가격'].min()) / (data['가격'].max() - data['가격'].min())"
   ]
  },
  {
   "cell_type": "code",
   "execution_count": 67,
   "metadata": {},
   "outputs": [],
   "source": [
    "# 정규화된 데이터를 가격 범위에 따라 그룹화\n",
    "def categorize_normalized_price(price, min_price, max_price):\n",
    "    real_price = price * (max_price - min_price) + min_price\n",
    "    if real_price <= 5000:\n",
    "        return '0~5000원'\n",
    "    elif real_price <= 10000:\n",
    "        return '5001~10000원'\n",
    "    elif real_price <= 20000:\n",
    "        return '10001~20000원'\n",
    "    elif real_price <= 30000:\n",
    "        return '20001~30000원'\n",
    "    else:\n",
    "        return '그외'\n",
    "    \n",
    "min_price = data['가격'].min()\n",
    "max_price = data['가격'].max()\n",
    "data['가격 범위'] = normalized_prices.apply(categorize_normalized_price, args=(min_price, max_price))\n"
   ]
  },
  {
   "cell_type": "code",
   "execution_count": 69,
   "metadata": {},
   "outputs": [
    {
     "data": {
      "image/png": "[encoded data removed]",
      "text/plain": [
       "<Figure size 1000x800 with 1 Axes>"
      ]
     },
     "metadata": {},
     "output_type": "display_data"
    }
   ],
   "source": [
    "# 가격 범위 카운트\n",
    "price_range_counts = data['가격 범위'].value_counts()\n",
    "\n",
    "# 파이차트 생성\n",
    "plt.figure(figsize=(10, 8))\n",
    "plt.pie(price_range_counts, labels=price_range_counts.index, autopct='%1.1f%%', startangle=140)\n",
    "plt.title('가격 범위별 빈도 파이차트')\n",
    "plt.show()"
   ]
  },
  {
   "cell_type": "code",
   "execution_count": null,
   "metadata": {},
   "outputs": [],
   "source": []
  }
 ],
 "metadata": {
  "kernelspec": {
   "display_name": "malcam_ju",
   "language": "python",
   "name": "malcam"
  },
  "language_info": {
   "codemirror_mode": {
    "name": "ipython",
    "version": 3
   },
   "file_extension": ".py",
   "mimetype": "text/x-python",
   "name": "python",
   "nbconvert_exporter": "python",
   "pygments_lexer": "ipython3",
   "version": "3.10.14"
  }
 },
 "nbformat": 4,
 "nbformat_minor": 2
}
