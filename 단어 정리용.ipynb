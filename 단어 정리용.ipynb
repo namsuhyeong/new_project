{
 "cells": [
  {
   "cell_type": "code",
   "execution_count": 1,
   "metadata": {},
   "outputs": [],
   "source": [
    "# 단어 치환용\n",
    "data_sub_dic = {'가성':'가성비','버브':'리버브','충전':'독','선정':'선정리용'}\n",
    "\n",
    "# 불용어 리스트\n",
    "#stop_words = set(stopwords.words('english'))  # NLTK의 영어 불용어 리스트\n",
    "stopwords = {'비', '때', '개','거', '것', '나', '더', '그것', '있다', '없다', '하다', '되다', '이다', '있습니다', '않다', '습니다', '이', '에', '을', '를', '가', '은', '는', '이', '그', '의', '에', '와', '으로', '고', '에서', '와', '과', '도', '또', '와', '하고',\"리\",\"수\",\"독\",\"임\",\"함\",\"때\", \"수\",\"듯\",\"리용\",\"를\",\"불\",\"때\",\"로\",\"강\",\"게\",\"싸이\",\"잉쁘\",\"다료\",\"재뮨\",\"시포셔\",\"뮨의햇눈디\",\"오워르즁슌까쥐\",\"뵨\",\"제졍신읜\",\"햇넌디\"}\n",
    "\n",
    "# 단어 합치기\n",
    "{'한글':'한국어','지원':'지원이','조금':'좀'}"
   ]
  },
  {
   "cell_type": "code",
   "execution_count": null,
   "metadata": {},
   "outputs": [],
   "source": []
  }
 ],
 "metadata": {
  "kernelspec": {
   "display_name": "base",
   "language": "python",
   "name": "python3"
  },
  "language_info": {
   "codemirror_mode": {
    "name": "ipython",
    "version": 3
   },
   "file_extension": ".py",
   "mimetype": "text/x-python",
   "name": "python",
   "nbconvert_exporter": "python",
   "pygments_lexer": "ipython3",
   "version": "3.11.7"
  }
 },
 "nbformat": 4,
 "nbformat_minor": 2
}
